{
 "cells": [
  {
   "cell_type": "code",
   "execution_count": 15,
   "id": "48e950b2",
   "metadata": {},
   "outputs": [],
   "source": [
    "import pymysql"
   ]
  },
  {
   "cell_type": "code",
   "execution_count": 16,
   "id": "bdcfe1de",
   "metadata": {},
   "outputs": [],
   "source": [
    "mydb = pymysql.connect(\n",
    "    host = 'localhost',\n",
    "    user ='root',\n",
    "    password = 'seyilaw1',\n",
    "    database ='greatmanacademy'\n",
    ")\n",
    "mycursor = mydb.cursor()"
   ]
  },
  {
   "cell_type": "code",
   "execution_count": 17,
   "id": "aeeb46ea",
   "metadata": {},
   "outputs": [
    {
     "name": "stdout",
     "output_type": "stream",
     "text": [
      "('staffrecords',)\n",
      "('studentinformation',)\n",
      "('studentrecords',)\n"
     ]
    }
   ],
   "source": [
    "mycursor.execute('show tables')\n",
    "for x in mycursor:\n",
    "    print(x)"
   ]
  },
  {
   "cell_type": "code",
   "execution_count": 19,
   "id": "6b6c4eaa",
   "metadata": {},
   "outputs": [],
   "source": [
    "class student_records:\n",
    "    def displayrecords(self):\n",
    "        mycursor.execute('select * from studentinformation')\n",
    "        for x in mycursor:\n",
    "            print(x)\n",
    "    def acceptrecords(self):\n",
    "        StudentID = int(input('Student id'))\n",
    "        StudentName = input('Student Name')\n",
    "        StudentAge = int(input('Student Age'))\n",
    "        StudentGender = input('Student Gender')\n",
    "        StudentAddress = input('Student Address')\n",
    "        studentDOB = input('Student Date Of Birth')\n",
    "        \n",
    "        sql = 'insert into studentinformation(StudentID,StudentName,StudentAge,StudentGender,StudentAddress,studentDOB) values(%s,%s,%s,%s,%s,%s)'\n",
    "        val=([StudentID,StudentName,StudentAge,StudentGender,StudentAddress,studentDOB])\n",
    "        mycursor.execute(sql,val)\n",
    "        mydb.commit()\n",
    "    def searchrecords(self):\n",
    "        search = int(input('Enter student id to search'))\n",
    "        mycursor.execute('select * from studentinformation where StudentID = \"{}%\"'.format(search))\n",
    "        for x in mycursor:\n",
    "            print(x)\n",
    "        "
   ]
  },
  {
   "cell_type": "code",
   "execution_count": 21,
   "id": "0b909479",
   "metadata": {},
   "outputs": [
    {
     "name": "stdout",
     "output_type": "stream",
     "text": [
      "Enter y as yes to perform operation and n as no to quit: y\n",
      "Option2\n",
      "Student id101\n",
      "Student NameAyo Job\n",
      "Student Age14\n",
      "Student GenderMale\n",
      "Student AddressBetter Street\n",
      "Student Date Of Birth12-05-2023\n",
      "Enter y as yes to perform operation and n as no to quit: y\n",
      "Option1\n",
      "(101, 'Ayo Job', 14, 'Male', 'Better Street', '12-05-2023')\n",
      "Enter y as yes to perform operation and n as no to quit: y\n",
      "Option2\n",
      "Student id102\n",
      "Student NameFaith Lawal\n",
      "Student Age15\n",
      "Student GenderFemale\n",
      "Student AddressBala Town Street\n",
      "Student Date Of Birth02-22-2008\n",
      "Enter y as yes to perform operation and n as no to quit: y\n",
      "Option1\n",
      "(101, 'Ayo Job', 14, 'Male', 'Better Street', '12-05-2023')\n",
      "(102, 'Faith Lawal', 15, 'Female', 'Bala Town Street', '02-22-2008')\n",
      "Enter y as yes to perform operation and n as no to quit: y\n",
      "Option3\n",
      "Enter student id to search102\n",
      "(102, 'Faith Lawal', 15, 'Female', 'Bala Town Street', '02-22-2008')\n",
      "Enter y as yes to perform operation and n as no to quit: y\n",
      "Option3\n",
      "Enter student id to search101\n",
      "(101, 'Ayo Job', 14, 'Male', 'Better Street', '12-05-2023')\n",
      "Enter y as yes to perform operation and n as no to quit: n\n"
     ]
    }
   ],
   "source": [
    "def start():\n",
    "    program = student_records()\n",
    "    x= input('Enter y as yes to perform operation and n as no to quit: ')\n",
    "    counter = 1\n",
    "    while x =='y':\n",
    "        option = int(input('Option'))\n",
    "        if option ==1:\n",
    "            program.displayrecords()\n",
    "        elif option == 2:\n",
    "            program.acceptrecords()\n",
    "        elif option == 3:\n",
    "            program.searchrecords()\n",
    "        x= input('Enter y as yes to perform operation and n as no to quit: ')\n",
    "        counter +=1\n",
    "start()\n"
   ]
  },
  {
   "cell_type": "code",
   "execution_count": null,
   "id": "0202bf70",
   "metadata": {},
   "outputs": [],
   "source": []
  },
  {
   "cell_type": "code",
   "execution_count": null,
   "id": "4ce464e2",
   "metadata": {},
   "outputs": [],
   "source": []
  },
  {
   "cell_type": "code",
   "execution_count": null,
   "id": "b482cc82",
   "metadata": {},
   "outputs": [],
   "source": []
  }
 ],
 "metadata": {
  "kernelspec": {
   "display_name": "Python 3 (ipykernel)",
   "language": "python",
   "name": "python3"
  },
  "language_info": {
   "codemirror_mode": {
    "name": "ipython",
    "version": 3
   },
   "file_extension": ".py",
   "mimetype": "text/x-python",
   "name": "python",
   "nbconvert_exporter": "python",
   "pygments_lexer": "ipython3",
   "version": "3.9.12"
  }
 },
 "nbformat": 4,
 "nbformat_minor": 5
}

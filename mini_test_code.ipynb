{
 "cells": [
  {
   "cell_type": "code",
   "execution_count": 4,
   "id": "24ba21bb",
   "metadata": {},
   "outputs": [],
   "source": [
    "def bank_funds(accounts, account_name, amount, action):\n",
    "    if account_name not in accounts:\n",
    "        return f\"Error: {account_name} not found in accounts.\"\n",
    "    if action == \"transfer\":\n",
    "        if accounts[account_name] < amount:\n",
    "            return f\"Error: {account_name} does not have enough funds to make this transfer.\"\n",
    "        to_account = input(\"Enter the name of the account to transfer to: \")\n",
    "        if to_account not in accounts:\n",
    "            return f\"Error: {to_account} not found in accounts.\"\n",
    "        accounts[account_name] -= amount\n",
    "        accounts[to_account] += amount\n",
    "    elif action == \"withdraw\":\n",
    "        if accounts[account_name] < amount:\n",
    "            return f\"Error: {account_name} does not have enough funds to make this withdrawal.\"\n",
    "        accounts[account_name] -= amount\n",
    "    elif action == \"deposit\":\n",
    "        accounts[account_name] += amount\n",
    "    else:\n",
    "        return \"Error: Invalid action specified. Please choose 'transfer', 'withdraw', or 'deposit'.\"\n",
    "    return accounts\n"
   ]
  },
  {
   "cell_type": "code",
   "execution_count": 3,
   "id": "8202113a",
   "metadata": {},
   "outputs": [
    {
     "name": "stdout",
     "output_type": "stream",
     "text": [
      "Enter the name of the account to transfer to: Bob\n",
      "{'Alice': 50, 'Bob': 250, 'Charlie': 300}\n"
     ]
    }
   ],
   "source": [
    "accounts = {\"Alice\": 100, \"Bob\": 200, \"Charlie\": 300}\n",
    "print(bank_funds(accounts, \"Alice\", 50, \"transfer\"))\n",
    "# Output: {\"Alice\": 50, \"Bob\": 250, \"Charlie\": 300}\n",
    "\n",
    "#print(bank_funds(accounts, \"Charlie\", 20, \"withdraw\"))\n",
    "# Output: {\"Alice\": 50, \"Bob\": 250, \"Charlie\": 280}\n",
    "\n",
    "#print(bank_funds(accounts, \"Bob\", 10, \"deposit\"))\n",
    "# Output: {\"Alice\": 50, \"Bob\": 260, \"Charlie\": 280}\n"
   ]
  },
  {
   "cell_type": "code",
   "execution_count": null,
   "id": "0f74e668",
   "metadata": {},
   "outputs": [],
   "source": []
  }
 ],
 "metadata": {
  "kernelspec": {
   "display_name": "Python 3 (ipykernel)",
   "language": "python",
   "name": "python3"
  },
  "language_info": {
   "codemirror_mode": {
    "name": "ipython",
    "version": 3
   },
   "file_extension": ".py",
   "mimetype": "text/x-python",
   "name": "python",
   "nbconvert_exporter": "python",
   "pygments_lexer": "ipython3",
   "version": "3.9.12"
  }
 },
 "nbformat": 4,
 "nbformat_minor": 5
}

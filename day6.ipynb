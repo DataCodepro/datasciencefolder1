{
 "cells": [
  {
   "cell_type": "code",
   "execution_count": 2,
   "id": "d2a85eeb",
   "metadata": {},
   "outputs": [],
   "source": [
    "def greet():\n",
    "    return 'Welcome to python class'"
   ]
  },
  {
   "cell_type": "code",
   "execution_count": 3,
   "id": "d2ec7d42",
   "metadata": {},
   "outputs": [
    {
     "data": {
      "text/plain": [
       "'Welcome to python class'"
      ]
     },
     "execution_count": 3,
     "metadata": {},
     "output_type": "execute_result"
    }
   ],
   "source": [
    "greet()"
   ]
  },
  {
   "cell_type": "code",
   "execution_count": 4,
   "id": "b96f2d0d",
   "metadata": {},
   "outputs": [
    {
     "data": {
      "text/plain": [
       "'Welcome to python class'"
      ]
     },
     "execution_count": 4,
     "metadata": {},
     "output_type": "execute_result"
    }
   ],
   "source": [
    "greet()"
   ]
  },
  {
   "cell_type": "code",
   "execution_count": 6,
   "id": "49268b11",
   "metadata": {},
   "outputs": [
    {
     "data": {
      "text/plain": [
       "'Welcome to python class Ade'"
      ]
     },
     "execution_count": 6,
     "metadata": {},
     "output_type": "execute_result"
    }
   ],
   "source": [
    "def greet2(name):\n",
    "    return f'Welcome to python class {name}'\n",
    "greet2('Ade')"
   ]
  },
  {
   "cell_type": "code",
   "execution_count": 7,
   "id": "313c3dea",
   "metadata": {},
   "outputs": [
    {
     "data": {
      "text/plain": [
       "'Welcome to python class Sam'"
      ]
     },
     "execution_count": 7,
     "metadata": {},
     "output_type": "execute_result"
    }
   ],
   "source": [
    "greet2('Sam')"
   ]
  },
  {
   "cell_type": "code",
   "execution_count": 8,
   "id": "f786054b",
   "metadata": {},
   "outputs": [
    {
     "name": "stdout",
     "output_type": "stream",
     "text": [
      "Please enter your name:Samson\n"
     ]
    },
    {
     "data": {
      "text/plain": [
       "'Welcome to python class Samson'"
      ]
     },
     "execution_count": 8,
     "metadata": {},
     "output_type": "execute_result"
    }
   ],
   "source": [
    "greet2(input('Please enter your name:'))"
   ]
  },
  {
   "cell_type": "markdown",
   "id": "13887265",
   "metadata": {},
   "source": [
    " Ask user to enter age, sex ( M or F ), marital status ( Y or N ) and then using following rules print their place of service.\n",
    "\n",
    "if employee is female, then she will work only in urban areas.\n",
    "\n",
    " \n",
    "\n",
    "if employee is a male and age is in between 20 to 40 then he may work in anywhere\n",
    "\n",
    " \n",
    "\n",
    "if employee is male and age is in between 40 t0 60 then he will work in urban areas only.\n",
    "\n",
    " \n",
    "\n",
    "And any other input of age should print \"ERROR\"."
   ]
  },
  {
   "cell_type": "code",
   "execution_count": 11,
   "id": "bab69a58",
   "metadata": {},
   "outputs": [
    {
     "data": {
      "text/plain": [
       "'Employee will only work in the urban area'"
      ]
     },
     "execution_count": 11,
     "metadata": {},
     "output_type": "execute_result"
    }
   ],
   "source": [
    "def posting(age,gender,maritalS):\n",
    "    if gender == 'F':\n",
    "        return 'Employee will work only in the urban area'\n",
    "    elif gender == 'M' and age >=20 and age <40:\n",
    "        return 'Employee can work anywhere'\n",
    "    elif gender =='M' and age >= 40 and age <= 60:\n",
    "        return 'Employee will only work in the urban area'\n",
    "    else:\n",
    "        print('ERROR')\n",
    "posting(45,'M','Y')"
   ]
  },
  {
   "cell_type": "code",
   "execution_count": 12,
   "id": "664afce7",
   "metadata": {},
   "outputs": [
    {
     "data": {
      "text/plain": [
       "'Employee will work only in the urban area'"
      ]
     },
     "execution_count": 12,
     "metadata": {},
     "output_type": "execute_result"
    }
   ],
   "source": [
    "posting(25,'F','N')"
   ]
  },
  {
   "cell_type": "code",
   "execution_count": 14,
   "id": "feafdf61",
   "metadata": {},
   "outputs": [
    {
     "data": {
      "text/plain": [
       "'Employee will only work in the urban area'"
      ]
     },
     "execution_count": 14,
     "metadata": {},
     "output_type": "execute_result"
    }
   ],
   "source": [
    "def posting(age,gender,maritalS = 'S'):\n",
    "    if gender == 'F':\n",
    "        return 'Employee will work only in the urban area'\n",
    "    elif gender == 'M' and age >=20 and age <40:\n",
    "        return 'Employee can work anywhere'\n",
    "    elif gender =='M' and age >= 40 and age <= 60:\n",
    "        return 'Employee will only work in the urban area'\n",
    "    else:\n",
    "        print('ERROR')\n",
    "posting(45,'M','M')"
   ]
  },
  {
   "cell_type": "markdown",
   "id": "938c29ad",
   "metadata": {},
   "source": [
    "# VARIABLE LENGHT FUNCTION"
   ]
  },
  {
   "cell_type": "code",
   "execution_count": 15,
   "id": "61b50fcd",
   "metadata": {},
   "outputs": [
    {
     "name": "stdout",
     "output_type": "stream",
     "text": [
      "<class 'tuple'>\n",
      "The average of (78, 54, 65, 89, 65, 78, 45, 12, 36, 85, 47) is 59.45454545454545\n"
     ]
    }
   ],
   "source": [
    "def average(*num):\n",
    "    print(type(num))\n",
    "    avg = sum(num)/len(num)\n",
    "    print(f'The average of {num} is {avg}')\n",
    "average(78,54,65,89,65,78,45,12,36,85,47)"
   ]
  },
  {
   "cell_type": "code",
   "execution_count": 16,
   "id": "a092bbc3",
   "metadata": {},
   "outputs": [
    {
     "name": "stdout",
     "output_type": "stream",
     "text": [
      "<class 'tuple'>\n",
      "The average of (45, 89, 87, 45, 65) is 66.2\n"
     ]
    }
   ],
   "source": [
    "numbers = [45,89,87,45,65]\n",
    "average(*numbers)"
   ]
  },
  {
   "cell_type": "code",
   "execution_count": 19,
   "id": "96eca2c0",
   "metadata": {},
   "outputs": [
    {
     "name": "stdout",
     "output_type": "stream",
     "text": [
      "<class 'dict'>\n",
      "Name :: Ade\n",
      "Gender :: Male\n",
      "Age :: 35\n"
     ]
    }
   ],
   "source": [
    "def details(**records):\n",
    "    print(type(records))\n",
    "    for key, value in records.items():\n",
    "        print(key, '::', value)\n",
    "details(Name = 'Ade',Gender = 'Male',Age = 35)"
   ]
  },
  {
   "cell_type": "code",
   "execution_count": 20,
   "id": "e2952278",
   "metadata": {},
   "outputs": [
    {
     "name": "stdout",
     "output_type": "stream",
     "text": [
      "<class 'dict'>\n",
      "School :: Ade college\n",
      "year :: 2002\n",
      "Chairman :: Mr bode lawal\n"
     ]
    }
   ],
   "source": [
    "final = {\n",
    "    'School':'Ade college',\n",
    "    'year':2002,\n",
    "    'Chairman':'Mr bode lawal'\n",
    "}\n",
    "details(**final)"
   ]
  },
  {
   "cell_type": "code",
   "execution_count": null,
   "id": "a40b9245",
   "metadata": {},
   "outputs": [],
   "source": []
  }
 ],
 "metadata": {
  "kernelspec": {
   "display_name": "Python 3 (ipykernel)",
   "language": "python",
   "name": "python3"
  },
  "language_info": {
   "codemirror_mode": {
    "name": "ipython",
    "version": 3
   },
   "file_extension": ".py",
   "mimetype": "text/x-python",
   "name": "python",
   "nbconvert_exporter": "python",
   "pygments_lexer": "ipython3",
   "version": "3.9.12"
  }
 },
 "nbformat": 4,
 "nbformat_minor": 5
}

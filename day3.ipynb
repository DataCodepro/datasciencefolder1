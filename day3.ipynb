{
 "cells": [
  {
   "cell_type": "markdown",
   "id": "a1e9151f",
   "metadata": {},
   "source": [
    "# ITERABLE OBJECT"
   ]
  },
  {
   "cell_type": "code",
   "execution_count": 1,
   "id": "6f62b6b0",
   "metadata": {},
   "outputs": [],
   "source": [
    "# TUPLE\n",
    "# TUPLE IS UNCHANGEABLE\n",
    "# TUPLE MUST BE ORDERED\n",
    "# TUPLE IS DENOTED WITH ()\n",
    "# TO ACCESS VALUE FROM A TUPLE WE USE THE INDEX LOCATION"
   ]
  },
  {
   "cell_type": "code",
   "execution_count": 7,
   "id": "e73ecdd5",
   "metadata": {},
   "outputs": [],
   "source": [
    "numbers = (25,45,89,65,36,25,28,96,35,45,89)"
   ]
  },
  {
   "cell_type": "code",
   "execution_count": 8,
   "id": "c7a2cee5",
   "metadata": {},
   "outputs": [
    {
     "name": "stdout",
     "output_type": "stream",
     "text": [
      "11\n"
     ]
    }
   ],
   "source": [
    "print(len(numbers))"
   ]
  },
  {
   "cell_type": "code",
   "execution_count": 9,
   "id": "9b711ad2",
   "metadata": {},
   "outputs": [
    {
     "data": {
      "text/plain": [
       "25"
      ]
     },
     "execution_count": 9,
     "metadata": {},
     "output_type": "execute_result"
    }
   ],
   "source": [
    "numbers[5]"
   ]
  },
  {
   "cell_type": "code",
   "execution_count": 10,
   "id": "e8e6a697",
   "metadata": {},
   "outputs": [
    {
     "data": {
      "text/plain": [
       "65"
      ]
     },
     "execution_count": 10,
     "metadata": {},
     "output_type": "execute_result"
    }
   ],
   "source": [
    "numbers[-8]"
   ]
  },
  {
   "cell_type": "code",
   "execution_count": 11,
   "id": "4f703cd2",
   "metadata": {},
   "outputs": [
    {
     "data": {
      "text/plain": [
       "(89, 65, 36, 25, 28)"
      ]
     },
     "execution_count": 11,
     "metadata": {},
     "output_type": "execute_result"
    }
   ],
   "source": [
    "numbers[2:7]"
   ]
  },
  {
   "cell_type": "code",
   "execution_count": 12,
   "id": "3172c2bd",
   "metadata": {},
   "outputs": [
    {
     "name": "stdout",
     "output_type": "stream",
     "text": [
      "2\n"
     ]
    }
   ],
   "source": [
    "print(numbers.count(45))"
   ]
  },
  {
   "cell_type": "code",
   "execution_count": 13,
   "id": "793f4747",
   "metadata": {},
   "outputs": [
    {
     "name": "stdout",
     "output_type": "stream",
     "text": [
      "6\n"
     ]
    }
   ],
   "source": [
    "print(numbers.index(28))"
   ]
  },
  {
   "cell_type": "code",
   "execution_count": null,
   "id": "a76b9045",
   "metadata": {},
   "outputs": [],
   "source": []
  }
 ],
 "metadata": {
  "kernelspec": {
   "display_name": "Python 3 (ipykernel)",
   "language": "python",
   "name": "python3"
  },
  "language_info": {
   "codemirror_mode": {
    "name": "ipython",
    "version": 3
   },
   "file_extension": ".py",
   "mimetype": "text/x-python",
   "name": "python",
   "nbconvert_exporter": "python",
   "pygments_lexer": "ipython3",
   "version": "3.9.12"
  }
 },
 "nbformat": 4,
 "nbformat_minor": 5
}

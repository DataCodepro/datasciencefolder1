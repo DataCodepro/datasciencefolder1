{
 "cells": [
  {
   "cell_type": "code",
   "execution_count": 7,
   "id": "83f9b219",
   "metadata": {},
   "outputs": [
    {
     "name": "stdout",
     "output_type": "stream",
     "text": [
      "a\n",
      "p\n",
      "p\n",
      "l\n",
      "e\n"
     ]
    }
   ],
   "source": [
    "word = 'apple'\n",
    "for x in word:\n",
    "    print(x)"
   ]
  },
  {
   "cell_type": "code",
   "execution_count": 6,
   "id": "7e1bb255",
   "metadata": {},
   "outputs": [
    {
     "name": "stdout",
     "output_type": "stream",
     "text": [
      "aaa ppp ppp lll eee "
     ]
    }
   ],
   "source": [
    "word = 'apple'\n",
    "for char in word:\n",
    "    print(char * 3, end =' ')"
   ]
  },
  {
   "cell_type": "code",
   "execution_count": 14,
   "id": "c493084e",
   "metadata": {},
   "outputs": [
    {
     "name": "stdout",
     "output_type": "stream",
     "text": [
      "Hey Ade this is a kind reminder of our meeting slated to hold by 12 noon\n",
      "Hey Ken this is a kind reminder of our meeting slated to hold by 12 noon\n",
      "Hey Mary this is a kind reminder of our meeting slated to hold by 12 noon\n",
      "Hey Sam this is a kind reminder of our meeting slated to hold by 12 noon\n"
     ]
    }
   ],
   "source": [
    "friends = ['Ade','Ken','Mary', 'Sam']\n",
    "for name in friends:\n",
    "    print(f'Hey {name} this is a kind reminder of our meeting slated to hold by 12 noon')"
   ]
  },
  {
   "cell_type": "code",
   "execution_count": 17,
   "id": "bf2dbf9c",
   "metadata": {},
   "outputs": [
    {
     "name": "stdout",
     "output_type": "stream",
     "text": [
      "Please Provide a name:Sam\n",
      "Hey Sam this is a kind reminder of our meeting slated to hold by 12 noon\n"
     ]
    }
   ],
   "source": [
    "friends = ['Ade','Ken','Mary', 'Sam']\n",
    "NAME = input('Please Provide a name:')\n",
    "for name in friends:\n",
    "    if NAME == name:\n",
    "        print(f'Hey {name} this is a kind reminder of our meeting slated to hold by 12 noon')"
   ]
  },
  {
   "cell_type": "code",
   "execution_count": 24,
   "id": "2fe9f9a0",
   "metadata": {},
   "outputs": [
    {
     "name": "stdout",
     "output_type": "stream",
     "text": [
      "Please provide your name to access your resultJane\n",
      "Congratulations your scores in thefollowing subjects (Math,English, Physics and Chemistry)are [90, 80, 74, 65]\n",
      "Record not found\n"
     ]
    }
   ],
   "source": [
    "student_score = {\n",
    "    'Samuel':[87,98,70,86],\n",
    "    'Jane':[90,80,74,65],\n",
    "    'Hope':[65,98,70,70],\n",
    "    'Paul':[75,70,78,80],\n",
    "    'Fatima':[80,82,78,75]\n",
    "}\n",
    "name = input('Please provide your name to access your result')\n",
    "for studentname in student_score:\n",
    "    if name == studentname:\n",
    "        print(f'Congratulations your scores in the\\\n",
    "following subjects (Math,English, Physics and Chemistry)\\\n",
    "are {student_score[name]}')\n",
    "else:\n",
    "    print('Record not found')"
   ]
  },
  {
   "cell_type": "code",
   "execution_count": 23,
   "id": "90907dcd",
   "metadata": {},
   "outputs": [
    {
     "name": "stdout",
     "output_type": "stream",
     "text": [
      "Please provide your name to access your resultAde\n",
      "Record not found\n"
     ]
    }
   ],
   "source": [
    "student_score = {\n",
    "    'Samuel':[87,98,70,86],\n",
    "    'Jane':[90,80,74,65],\n",
    "    'Hope':[65,98,70,70],\n",
    "    'Paul':[75,70,78,80],\n",
    "    'Fatima':[80,82,78,75]\n",
    "}\n",
    "name = input('Please provide your name to access your result')\n",
    "for studentname in student_score:\n",
    "    if name == studentname:\n",
    "        print(f'Congratulations your scores in the\\\n",
    "        following subjects (Math,English, Physics and Chemistry)\\\n",
    "        are {student_score[name]}')\n",
    "        break\n",
    "else:\n",
    "    print('Record not found')"
   ]
  },
  {
   "cell_type": "code",
   "execution_count": 25,
   "id": "edcaffa4",
   "metadata": {},
   "outputs": [],
   "source": [
    "# while loop"
   ]
  },
  {
   "cell_type": "code",
   "execution_count": 27,
   "id": "a07cb262",
   "metadata": {},
   "outputs": [
    {
     "name": "stdout",
     "output_type": "stream",
     "text": [
      "Provide a number:8\n",
      "The sqrt of 8 is 2.8284271247461903\n",
      "Provide a number:78\n",
      "The sqrt of 78 is 8.831760866327848\n",
      "Provide a number:98\n",
      "The sqrt of 98 is 9.899494936611665\n",
      "Provide a number:0\n"
     ]
    }
   ],
   "source": [
    "import math\n",
    "num = int(input('Provide a number:'))\n",
    "counter = 1\n",
    "while num != 0:\n",
    "    print(f'The sqrt of {num} is {math.sqrt(num)}')\n",
    "    counter = counter + 1\n",
    "    num = int(input('Provide a number:'))"
   ]
  },
  {
   "cell_type": "code",
   "execution_count": 28,
   "id": "ed5a9e76",
   "metadata": {},
   "outputs": [
    {
     "name": "stdout",
     "output_type": "stream",
     "text": [
      "Provide your guess8\n",
      "Provide your guess4\n",
      "Provide your guess12\n",
      "Provide your guess15\n",
      "Provide your guess5\n",
      "Sorry incorrect guess\n"
     ]
    }
   ],
   "source": [
    "import random\n",
    "correct_guess = random.randint(1,20)\n",
    "guess_count = 0\n",
    "guess_limit = 5\n",
    "while guess_count < guess_limit:\n",
    "    guess = int(input('Provide your guess'))\n",
    "    guess_count = guess_count  + 1\n",
    "    if guess == correct_guess:\n",
    "        print('Congratulations guess is correct')\n",
    "        break\n",
    "else:\n",
    "    print('Sorry incorrect guess')"
   ]
  },
  {
   "cell_type": "code",
   "execution_count": null,
   "id": "aee6815b",
   "metadata": {},
   "outputs": [],
   "source": []
  }
 ],
 "metadata": {
  "kernelspec": {
   "display_name": "Python 3 (ipykernel)",
   "language": "python",
   "name": "python3"
  },
  "language_info": {
   "codemirror_mode": {
    "name": "ipython",
    "version": 3
   },
   "file_extension": ".py",
   "mimetype": "text/x-python",
   "name": "python",
   "nbconvert_exporter": "python",
   "pygments_lexer": "ipython3",
   "version": "3.9.12"
  }
 },
 "nbformat": 4,
 "nbformat_minor": 5
}

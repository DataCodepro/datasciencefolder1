{
 "cells": [
  {
   "cell_type": "markdown",
   "id": "2fb55a78",
   "metadata": {},
   "source": [
    "# A loop is a programming construct that allows a program to repeat a set of instructions multiple times, until a certain condition is met. In Python, the two main types of loops are the \"for loop\" and the \"while loop\".\n",
    "\n",
    "# The \"for loop\" is used to iterate over a sequence (such as a list, tuple, or string) and execute a block of code for each item in the sequence. The basic syntax of a for loop is: \"for item in sequence: code to be executed\".\n",
    "\n",
    "# The \"while loop\" is used to repeat a block of code as long as a given condition is true. The basic syntax of a while loop is: \"while (condition): code to be executed\". It is important to make sure that the condition eventually becomes false, otherwise the loop will run indefinitely, which is known as an infinite loop."
   ]
  },
  {
   "cell_type": "code",
   "execution_count": null,
   "id": "683f1b0b",
   "metadata": {},
   "outputs": [],
   "source": []
  },
  {
   "cell_type": "code",
   "execution_count": null,
   "id": "5269b29c",
   "metadata": {},
   "outputs": [],
   "source": []
  },
  {
   "cell_type": "code",
   "execution_count": null,
   "id": "9acc6825",
   "metadata": {},
   "outputs": [],
   "source": []
  },
  {
   "cell_type": "markdown",
   "id": "e2ae7c25",
   "metadata": {},
   "source": [
    "# YOU HAVE JUST BEEN EMPLOYEED BY JTECH LIMITED, YOU ARE ASKED TO CREATE A SIMPLE POSTING PROGRAMM FOR STAFF TO ANY OF OUR BRANCH LOCATION [ABIA, KADUNA, KANO, DELTA, GOMBE,AKWA-IBOM, OYO , OSUN, KWARA]\n",
    "# CREATE A DICTIONARY AS THE DATABASE WITH STAFF ID AS THE KEY WITH THE FOLLOWING VALUES\n",
    "# STAFF NAME , DOB,ADDRESS, PHONENUMBER AND EMAIL"
   ]
  },
  {
   "cell_type": "code",
   "execution_count": 1,
   "id": "1525e753",
   "metadata": {},
   "outputs": [
    {
     "name": "stdout",
     "output_type": "stream",
     "text": [
      "PROVIDE YOUR STAFF ID TO GET YOUR POSTINGJT010004\n",
      "__________________ STAFF DETAILS_____________________\n",
      "NAME: SAMUEL ADEBISI\n",
      "DATE OF BIRTH: 25/06/1976\n",
      "ADDRESS : ST BALA BLU STREET\n",
      "PHONE NUMBER : 081452222223\n",
      "EMAIL : SAMUEL12@GMAIL.COM\n",
      "\n",
      "Congratulations you have been posted to OSUN\n"
     ]
    }
   ],
   "source": [
    "import random\n",
    "staffrecords = {\n",
    "    'JT010001': ['BANKY JOB','05/06/1986','ST PATRICKS STREET','08156565987','JOB12@GMAIL.COM'],\n",
    "    'JT010002': ['FAITH AKPAN','25/01/1990','ST MARY STREET','09025636545','FAITH12@GMAIL.COM'],\n",
    "    'JT010003': ['HOPE JONES','05/12/1989','ST BUHARI STREET','08052326565','HOPE12@GMAIL.COM'],\n",
    "    'JT010004': ['SAMUEL ADEBISI','25/06/1976','ST BALA BLU STREET','081452222223','SAMUEL12@GMAIL.COM'],\n",
    "    'JT010005': ['LAWAL HAMZAT','22/02/1992','ST JAMES STREET','08145478965','LAWAL12@GMAIL.COM'],\n",
    "    'JT010006': ['JANET FATIA','15/02/1993','NO 55 HIGHWAY STREET','09023656969','JANET12@GMAIL.COM']\n",
    "}\n",
    "branch_location = ['ABIA', 'KADUNA', 'KANO', 'DELTA', 'GOMBE','AKWA-IBOM', 'OYO' , 'OSUN', 'KWARA']\n",
    "staffid = input('PROVIDE YOUR STAFF ID TO GET YOUR POSTING')\n",
    "for key in staffrecords:\n",
    "    if staffid == key:\n",
    "        print(f'''__________________ STAFF DETAILS_____________________\n",
    "NAME: {staffrecords[key][0]}\n",
    "DATE OF BIRTH: {staffrecords[key][1]}\n",
    "ADDRESS : {staffrecords[key][2]}\n",
    "PHONE NUMBER : {staffrecords[key][3]}\n",
    "EMAIL : {staffrecords[key][4]}\n",
    "''')\n",
    "        print(f'Congratulations you have been posted to {random.choice(branch_location)}')\n",
    "        break\n",
    "else:\n",
    "    print('Record not found')\n",
    "\n"
   ]
  },
  {
   "cell_type": "code",
   "execution_count": 2,
   "id": "028751c6",
   "metadata": {},
   "outputs": [],
   "source": [
    "# DATE AND TIME"
   ]
  },
  {
   "cell_type": "code",
   "execution_count": 3,
   "id": "c9d44321",
   "metadata": {},
   "outputs": [],
   "source": [
    "import datetime"
   ]
  },
  {
   "cell_type": "code",
   "execution_count": 4,
   "id": "1f0eae1b",
   "metadata": {},
   "outputs": [
    {
     "name": "stdout",
     "output_type": "stream",
     "text": [
      "['MAXYEAR', 'MINYEAR', '__all__', '__builtins__', '__cached__', '__doc__', '__file__', '__loader__', '__name__', '__package__', '__spec__', 'date', 'datetime', 'datetime_CAPI', 'sys', 'time', 'timedelta', 'timezone', 'tzinfo']\n"
     ]
    }
   ],
   "source": [
    "print(dir(datetime))"
   ]
  },
  {
   "cell_type": "code",
   "execution_count": 5,
   "id": "d6b52812",
   "metadata": {},
   "outputs": [
    {
     "data": {
      "text/plain": [
       "datetime.date(2022, 4, 25)"
      ]
     },
     "execution_count": 5,
     "metadata": {},
     "output_type": "execute_result"
    }
   ],
   "source": [
    "date1 = datetime.date(2022,4,25)\n",
    "date1"
   ]
  },
  {
   "cell_type": "code",
   "execution_count": 6,
   "id": "9e0bd704",
   "metadata": {},
   "outputs": [
    {
     "name": "stdout",
     "output_type": "stream",
     "text": [
      "2022\n"
     ]
    }
   ],
   "source": [
    "print(date1.year)"
   ]
  },
  {
   "cell_type": "code",
   "execution_count": 7,
   "id": "3fcfeef1",
   "metadata": {},
   "outputs": [
    {
     "name": "stdout",
     "output_type": "stream",
     "text": [
      "0\n"
     ]
    }
   ],
   "source": [
    "print(date1.weekday())"
   ]
  },
  {
   "cell_type": "code",
   "execution_count": 8,
   "id": "ba4ae89f",
   "metadata": {},
   "outputs": [],
   "source": [
    "# GENERATING THE CURRENT DATE "
   ]
  },
  {
   "cell_type": "code",
   "execution_count": 9,
   "id": "5092fd0f",
   "metadata": {},
   "outputs": [
    {
     "data": {
      "text/plain": [
       "datetime.date(2023, 2, 1)"
      ]
     },
     "execution_count": 9,
     "metadata": {},
     "output_type": "execute_result"
    }
   ],
   "source": [
    "currentdate = datetime.date.today()\n",
    "currentdate"
   ]
  },
  {
   "cell_type": "code",
   "execution_count": 10,
   "id": "d362cf60",
   "metadata": {},
   "outputs": [],
   "source": [
    "# strftime: this is used for the modification of date and time"
   ]
  },
  {
   "cell_type": "code",
   "execution_count": 19,
   "id": "4cf55c45",
   "metadata": {},
   "outputs": [
    {
     "data": {
      "text/plain": [
       "'01 of February, 2023'"
      ]
     },
     "execution_count": 19,
     "metadata": {},
     "output_type": "execute_result"
    }
   ],
   "source": [
    "currentdate.strftime('%d of %B, %Y')"
   ]
  },
  {
   "cell_type": "code",
   "execution_count": 22,
   "id": "641e0848",
   "metadata": {},
   "outputs": [
    {
     "data": {
      "text/plain": [
       "datetime.time(12, 47, 37, 278688)"
      ]
     },
     "execution_count": 22,
     "metadata": {},
     "output_type": "execute_result"
    }
   ],
   "source": [
    "currenttime = datetime.datetime.now().time()\n",
    "currenttime"
   ]
  },
  {
   "cell_type": "code",
   "execution_count": 29,
   "id": "e2da9216",
   "metadata": {},
   "outputs": [
    {
     "data": {
      "text/plain": [
       "'12::47::37::PM'"
      ]
     },
     "execution_count": 29,
     "metadata": {},
     "output_type": "execute_result"
    }
   ],
   "source": [
    "currenttime.strftime('%I::%M::%S::%p')"
   ]
  },
  {
   "cell_type": "code",
   "execution_count": 30,
   "id": "bd62807a",
   "metadata": {},
   "outputs": [
    {
     "data": {
      "text/plain": [
       "datetime.datetime(2023, 2, 1, 12, 54, 41, 16198)"
      ]
     },
     "execution_count": 30,
     "metadata": {},
     "output_type": "execute_result"
    }
   ],
   "source": [
    "current_date_time = datetime.datetime.now()\n",
    "current_date_time"
   ]
  },
  {
   "cell_type": "code",
   "execution_count": 34,
   "id": "113af845",
   "metadata": {},
   "outputs": [
    {
     "name": "stdout",
     "output_type": "stream",
     "text": [
      "Please provide a date in this format (mm/dd/yy)12/15/2023\n"
     ]
    },
    {
     "data": {
      "text/plain": [
       "datetime.date(2023, 12, 15)"
      ]
     },
     "execution_count": 34,
     "metadata": {},
     "output_type": "execute_result"
    }
   ],
   "source": [
    "#strptime : this used for the convesion of string date to datetime format\n",
    "date2 = input('Please provide a date in this format (mm/dd/yy)')\n",
    "condate2 = datetime.datetime.strptime(date2,'%m/%d/%Y').date()\n",
    "condate2"
   ]
  },
  {
   "cell_type": "code",
   "execution_count": 35,
   "id": "a8a8c257",
   "metadata": {},
   "outputs": [
    {
     "data": {
      "text/plain": [
       "datetime.timedelta(days=282)"
      ]
     },
     "execution_count": 35,
     "metadata": {},
     "output_type": "execute_result"
    }
   ],
   "source": [
    "currentdate - date1"
   ]
  },
  {
   "cell_type": "code",
   "execution_count": 39,
   "id": "2742a334",
   "metadata": {},
   "outputs": [
    {
     "data": {
      "text/plain": [
       "datetime.date(2031, 10, 1)"
      ]
     },
     "execution_count": 39,
     "metadata": {},
     "output_type": "execute_result"
    }
   ],
   "source": [
    "currentdate + datetime.timedelta(weeks = 452)"
   ]
  },
  {
   "cell_type": "code",
   "execution_count": 41,
   "id": "c71cfaf0",
   "metadata": {},
   "outputs": [
    {
     "data": {
      "text/plain": [
       "datetime.datetime(2023, 8, 28, 20, 54, 41, 16198)"
      ]
     },
     "execution_count": 41,
     "metadata": {},
     "output_type": "execute_result"
    }
   ],
   "source": [
    "current_date_time + datetime.timedelta(hours = 5000)"
   ]
  },
  {
   "cell_type": "markdown",
   "id": "b14521cc",
   "metadata": {},
   "source": [
    "# EXERCISE\n",
    "# YOU ARE REQUIRED TO WRITE AN APPOINTMENT PROGRAM TO TELL A USER HOW MANY WEEKS AND DAYS THEY HAVE UNTIL AN APPOINTMENT FROM THE CURRENT DATE"
   ]
  },
  {
   "cell_type": "code",
   "execution_count": 43,
   "id": "ce6a3cdb",
   "metadata": {},
   "outputs": [
    {
     "name": "stdout",
     "output_type": "stream",
     "text": [
      "Please provide your appointment date in this format \"m/d/Y\"05/25/2023\n",
      "PLease provide your nameAde Ogun\n",
      "Hey Ade Ogun you have 16 weeks and 1 days until your appointment\n"
     ]
    }
   ],
   "source": [
    "strappointment = input('Please provide your appointment date in this format \"m/d/Y\"')\n",
    "name = input('PLease provide your name')\n",
    "appointmentdate = datetime.datetime.strptime(strappointment,'%m/%d/%Y').date()\n",
    "currentdate = datetime.date.today()\n",
    "diff = appointmentdate - currentdate\n",
    "tnw = diff.days // 7\n",
    "tnd = diff.days % 7\n",
    "print(f'Hey {name} you have {tnw} weeks and {tnd} days until your appointment')"
   ]
  },
  {
   "cell_type": "code",
   "execution_count": 44,
   "id": "add28aa4",
   "metadata": {},
   "outputs": [
    {
     "data": {
      "text/plain": [
       "datetime.timedelta(days=113)"
      ]
     },
     "execution_count": 44,
     "metadata": {},
     "output_type": "execute_result"
    }
   ],
   "source": [
    "diff"
   ]
  },
  {
   "cell_type": "code",
   "execution_count": null,
   "id": "1081e23d",
   "metadata": {},
   "outputs": [],
   "source": []
  }
 ],
 "metadata": {
  "kernelspec": {
   "display_name": "Python 3 (ipykernel)",
   "language": "python",
   "name": "python3"
  },
  "language_info": {
   "codemirror_mode": {
    "name": "ipython",
    "version": 3
   },
   "file_extension": ".py",
   "mimetype": "text/x-python",
   "name": "python",
   "nbconvert_exporter": "python",
   "pygments_lexer": "ipython3",
   "version": "3.9.12"
  }
 },
 "nbformat": 4,
 "nbformat_minor": 5
}

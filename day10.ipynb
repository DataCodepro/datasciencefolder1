{
 "cells": [
  {
   "cell_type": "markdown",
   "id": "d90e08dd",
   "metadata": {},
   "source": [
    "# AS A DEVELOPER YOU HAVE BEEN CONTACTED  BY THE MANAGER OF GREENWAY LIMITED \n",
    "# TO DEVELOP A SIMPLE PROGRAM TO MANAGE THEIR SHIPMENT ACTIVITIES"
   ]
  },
  {
   "cell_type": "code",
   "execution_count": null,
   "id": "c4c7db49",
   "metadata": {},
   "outputs": [],
   "source": []
  },
  {
   "cell_type": "markdown",
   "id": "cb28a02f",
   "metadata": {},
   "source": [
    "# A conditional statement is a programming construct that allows a program to make decisions based on whether a condition is true or false. It consists of a condition and a block of code that gets executed only if the condition is true. The basic syntax of a conditional statement is: \"if (condition) { code to be executed if condition is true }\". The code within the braces is executed only if the condition evaluates to true."
   ]
  },
  {
   "cell_type": "code",
   "execution_count": 1,
   "id": "a80aac1c",
   "metadata": {},
   "outputs": [
    {
     "name": "stdout",
     "output_type": "stream",
     "text": [
      "Enter order number:SN021546GF\n",
      "Enter customer name:MR BANTY JOHN\n",
      "Enter customer phone number:02128458588\n",
      "Enter Item name:TECNO SPARK8P\n",
      "Enter Item condition:FRAGILE\n",
      "Enter Item quantity:8\n",
      "Enter Item original price:90000\n",
      "Enter Shipment destination:KADUNA\n",
      "Enter item weight:15\n",
      "____________ SHIPMENT DETAILS___________\n",
      "ORDER NUMBER: SN021546GF\n",
      "CUSTOMER NAME: MR BANTY JOHN\n",
      "PHONE NUMBER: 02128458588\n",
      "ITEM NAME: TECNO SPARK8P\n",
      "ITEM CONDITION: FRAGILE\n",
      "ITEM QUANTITY : 8.0\n",
      "ORIGNAL PRICE : 90000.0\n",
      "TOTAL PRICE : 720000.0\n",
      "ITEM WEIGHT : 15.0\n",
      "DESTINATION : KADUNA\n",
      "\n",
      "The total shiping price is 1500.0\n"
     ]
    }
   ],
   "source": [
    "# order number\n",
    "#customer name\n",
    "# customer phone number\n",
    "# item name\n",
    "# item condition\n",
    "# item quantity\n",
    "# price per item\n",
    "# destination\n",
    "# weigth of the item\n",
    "ordernumber = input('Enter order number:')\n",
    "customername = input('Enter customer name:')\n",
    "customerphonenumber = input('Enter customer phone number:')\n",
    "itemname = input('Enter Item name:')\n",
    "itemcondition = input('Enter Item condition:')\n",
    "itemquantity = float(input('Enter Item quantity:'))\n",
    "price_per_item = float(input('Enter Item original price:'))\n",
    "destination = input('Enter Shipment destination:')\n",
    "weight = float(input('Enter item weight:'))\n",
    "totalitemprice = itemquantity * price_per_item\n",
    "print(f'''____________ SHIPMENT DETAILS___________\n",
    "ORDER NUMBER: {ordernumber}\n",
    "CUSTOMER NAME: {customername}\n",
    "PHONE NUMBER: {customerphonenumber}\n",
    "ITEM NAME: {itemname}\n",
    "ITEM CONDITION: {itemcondition}\n",
    "ITEM QUANTITY : {itemquantity}\n",
    "ORIGNAL PRICE : {price_per_item}\n",
    "TOTAL PRICE : {totalitemprice}\n",
    "ITEM WEIGHT : {weight}\n",
    "DESTINATION : {destination}\n",
    "''')\n",
    "if itemcondition == 'FRAGILE' and weight <= 23:\n",
    "    print(f'The total shiping price is {weight * 100}')\n",
    "elif itemcondition == 'FRAGILE' and weight > 23:\n",
    "    print(f'The total shiping price is {weight * 250}')\n",
    "elif itemcondition == 'NON-FRAGILE' and weight <= 23:\n",
    "    print(f'The total shiping price is {weight * 75}')\n",
    "elif itemcondition == 'NON-FRAGILE' and weight > 23:\n",
    "    print(f'The total shiping price is {weight * 150}')"
   ]
  },
  {
   "cell_type": "markdown",
   "id": "16f03967",
   "metadata": {},
   "source": [
    "# A function is a reusable block of code in a program that performs a specific task. It allows you to encapsulate a piece of code and call it from different parts of your program, making your code more organized and easier to read. A function takes inputs as arguments, processes them, and returns a result. Functions can be defined once and called multiple times, making it possible to write modular and reusable code. The basic syntax of a function definition is: \"function name(input arguments) { code to be executed }\". To call a function, you simply use its name followed by its input arguments in a statement."
   ]
  },
  {
   "cell_type": "code",
   "execution_count": 3,
   "id": "2c85832e",
   "metadata": {},
   "outputs": [
    {
     "name": "stdout",
     "output_type": "stream",
     "text": [
      "Enter Student NameAbayomi Mary\n",
      "Enter Math Score65\n",
      "Enter English Score70\n",
      "Enter Chemistry Score80\n",
      "Enter Physics Score70\n",
      "Enter Biology Score55\n",
      "Enter Geography Score62\n",
      "Enter Economics Score75\n",
      "Enter Agricultral Science Score85\n",
      "Congratulations your average score is 70.25 and your grade is A\n"
     ]
    }
   ],
   "source": [
    "def gradesystem():\n",
    "    studentname = input('Enter Student Name')\n",
    "    subject_score1 = float(input('Enter Math Score')) \n",
    "    subject_score2 = float(input('Enter English Score')) \n",
    "    subject_score3 = float(input('Enter Chemistry Score')) \n",
    "    subject_score4 = float(input('Enter Physics Score')) \n",
    "    subject_score5 = float(input('Enter Biology Score')) \n",
    "    subject_score6 = float(input('Enter Geography Score')) \n",
    "    subject_score7 = float(input('Enter Economics Score')) \n",
    "    subject_score8 = float(input('Enter Agricultral Science Score')) \n",
    "    averagescore = sum([subject_score1,subject_score2,subject_score3,subject_score4,subject_score5,subject_score6,subject_score7,subject_score8])/8\n",
    "    if averagescore >= 70 and averagescore < 100:\n",
    "        print(f'Congratulations your average score is {averagescore} and your grade is A')\n",
    "    elif averagescore >= 60 and averagescore < 69.99:\n",
    "        print(f'Congratulations your average score is {averagescore} and your grade is B')\n",
    "    elif averagescore >= 50 and averagescore < 59.99:\n",
    "        print(f'Congratulations your average score is {averagescore} and your grade is C')\n",
    "    elif averagescore >= 40 and averagescore < 49.99:\n",
    "        print(f'Congratulations your average score is {averagescore} and your grade is D')\n",
    "    elif averagescore >= 31 and averagescore < 39.99:\n",
    "        print(f'Congratulations your average score is {averagescore} and your grade is E')\n",
    "    else:\n",
    "        print(f'Congratulations your average score is {averagescore} and your grade is F')\n",
    "gradesystem()"
   ]
  },
  {
   "cell_type": "markdown",
   "id": "118ed67d",
   "metadata": {},
   "source": [
    "# A loop is a programming construct that allows a program to repeat a set of instructions multiple times, until a certain condition is met. In Python, the two main types of loops are the \"for loop\" and the \"while loop\".\n",
    "\n",
    "# The \"for loop\" is used to iterate over a sequence (such as a list, tuple, or string) and execute a block of code for each item in the sequence. The basic syntax of a for loop is: \"for item in sequence: code to be executed\".\n",
    "\n",
    "# The \"while loop\" is used to repeat a block of code as long as a given condition is true. The basic syntax of a while loop is: \"while (condition): code to be executed\". It is important to make sure that the condition eventually becomes false, otherwise the loop will run indefinitely, which is known as an infinite loop."
   ]
  },
  {
   "cell_type": "markdown",
   "id": "b813955f",
   "metadata": {},
   "source": [
    "# In Python, a class is a blueprint for creating objects (instances of a class). An object is an instance of a class that has its own attributes and methods, which define the behavior of the object. A class is defined using the \"class\" keyword, followed by the name of the class.\n",
    "# Attributes are the properties of an object and methods are the functions associated with an object. A method is defined using the \"def\" keyword and is called using the dot notation, for example: \"object.method()\".\n",
    "\n",
    "# To create an object of a class, you use the class name followed by parentheses, for example: \"object = ClassName()\". You can access the attributes and methods of an object using the dot notation, for example: \"object.attribute\" and \"object.method()\"."
   ]
  },
  {
   "cell_type": "code",
   "execution_count": null,
   "id": "e0cc6d88",
   "metadata": {},
   "outputs": [],
   "source": []
  }
 ],
 "metadata": {
  "kernelspec": {
   "display_name": "Python 3 (ipykernel)",
   "language": "python",
   "name": "python3"
  },
  "language_info": {
   "codemirror_mode": {
    "name": "ipython",
    "version": 3
   },
   "file_extension": ".py",
   "mimetype": "text/x-python",
   "name": "python",
   "nbconvert_exporter": "python",
   "pygments_lexer": "ipython3",
   "version": "3.9.12"
  }
 },
 "nbformat": 4,
 "nbformat_minor": 5
}

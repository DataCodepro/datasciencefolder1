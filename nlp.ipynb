{
 "cells": [
  {
   "cell_type": "code",
   "execution_count": 1,
   "metadata": {},
   "outputs": [
    {
     "name": "stderr",
     "output_type": "stream",
     "text": [
      "[nltk_data] Downloading package stopwords to\n",
      "[nltk_data]     C:\\Users\\Simeon\\AppData\\Roaming\\nltk_data...\n",
      "[nltk_data]   Package stopwords is already up-to-date!\n"
     ]
    }
   ],
   "source": [
    "import pandas as pd\n",
    "import numpy as np\n",
    "import matplotlib.pyplot as plt\n",
    "import plotly.express as px\n",
    "import seaborn as sns\n",
    "from sklearn.model_selection import train_test_split\n",
    "from sklearn.pipeline import Pipeline\n",
    "from sklearn.naive_bayes  import BernoulliNB\n",
    "import nltk# FOR TEXT PROCESSING\n",
    "from wordcloud import WordCloud,STOPWORDS\n",
    "from nltk.corpus import stopwords\n",
    "from nltk.stem import SnowballStemmer\n",
    "import re\n",
    "from sklearn.feature_extraction.text import CountVectorizer,TfidfTransformer,TfidfVectorizer#TEXT PROCESSING\n",
    "import missingno as mns# CHECKING FOR MISSING\n",
    "from sklearn.neural_network import MLPClassifier\n",
    "from sklearn.metrics import classification_report, confusion_matrix\n",
    "nltk.download('stopwords')\n",
    "stop_words = stopwords.words('english')"
   ]
  },
  {
   "cell_type": "code",
   "execution_count": null,
   "metadata": {},
   "outputs": [],
   "source": [
    "df_tweet = pd.read_csv('Tweets.csv')\n",
    "df_tweet.head()"
   ]
  },
  {
   "cell_type": "code",
   "execution_count": null,
   "metadata": {},
   "outputs": [],
   "source": [
    "mns.bar(df_tweet,color='black',sort='descending')"
   ]
  },
  {
   "cell_type": "code",
   "execution_count": null,
   "metadata": {},
   "outputs": [],
   "source": [
    "df_tweet['airline_sentiment'].unique()"
   ]
  },
  {
   "cell_type": "code",
   "execution_count": null,
   "metadata": {},
   "outputs": [],
   "source": [
    "new_data = df_tweet[df_tweet['airline_sentiment'] == 'negative']\n",
    "words = ' '.join(new_data['text'])\n",
    "cleaned_word = ' '.join([word for word in words.split()\n",
    "                    if 'http' not in word and  not word.startswith('@')\n",
    "                    and word !='RT'])\n",
    "wordcloud = WordCloud(stopwords =STOPWORDS,\n",
    "                      background_color ='gray',\n",
    "                      width = 2000,\n",
    "                      height=1500).generate(cleaned_word)\n",
    "plt.figure(1,figsize=(10,10))\n",
    "plt.imshow(wordcloud)\n",
    "plt.axis('off')\n",
    "plt.show()"
   ]
  },
  {
   "cell_type": "code",
   "execution_count": null,
   "metadata": {},
   "outputs": [],
   "source": [
    "new_data = df_tweet[df_tweet['airline_sentiment'] == 'positive']\n",
    "words = ' '.join(new_data['text'])\n",
    "cleaned_word = ' '.join([word for word in words.split()\n",
    "                    if 'http' not in word and  not word.startswith('@')\n",
    "                    and word !='RT'])\n",
    "wordcloud = WordCloud(stopwords =STOPWORDS,\n",
    "                      background_color ='gray',\n",
    "                      width = 2000,\n",
    "                      height=1500).generate(cleaned_word)\n",
    "plt.figure(1,figsize=(10,10))\n",
    "plt.imshow(wordcloud)\n",
    "plt.axis('off')\n",
    "plt.show()"
   ]
  },
  {
   "cell_type": "code",
   "execution_count": null,
   "metadata": {},
   "outputs": [],
   "source": [
    "new_data = df_tweet[df_tweet['airline_sentiment'] == 'neutral']\n",
    "words = ' '.join(new_data['text'])\n",
    "cleaned_word = ' '.join([word for word in words.split()\n",
    "                    if 'http' not in word and  not word.startswith('@')\n",
    "                    and word !='RT'])\n",
    "wordcloud = WordCloud(stopwords =STOPWORDS,\n",
    "                      background_color ='gray',\n",
    "                      width = 2000,\n",
    "                      height=1500).generate(cleaned_word)\n",
    "plt.figure(1,figsize=(10,10))\n",
    "plt.imshow(wordcloud)\n",
    "plt.axis('off')\n",
    "plt.show()"
   ]
  },
  {
   "cell_type": "code",
   "execution_count": null,
   "metadata": {},
   "outputs": [],
   "source": [
    "df_tweet['airline'].unique()"
   ]
  },
  {
   "cell_type": "code",
   "execution_count": null,
   "metadata": {},
   "outputs": [],
   "source": [
    "import warnings\n",
    "warnings.filterwarnings('ignore')\n",
    "airlines = ['Virgin America', 'United', 'Southwest', 'Delta', 'US Airways','American']\n",
    "plt.figure(figsize = (15,15))\n",
    "for i in airlines:\n",
    "    indices = airlines.index(i)\n",
    "    plt.subplot(2,3, indices + 1)\n",
    "    new_value = df_tweet[df_tweet['airline']==i]\n",
    "    print(new_value['airline_sentiment'].value_counts(),i)\n",
    "    index = [1,2,3]\n",
    "    sns.countplot(new_value['airline_sentiment'])\n",
    "    plt.title('count of mood of ' + i)\n",
    "    "
   ]
  },
  {
   "cell_type": "code",
   "execution_count": null,
   "metadata": {},
   "outputs": [],
   "source": [
    "airlines = ['Virgin America', 'United', 'Southwest', 'Delta', 'US Airways','American']\n",
    "\n",
    "for i in airlines:\n",
    "    indices = airlines.index(i)\n",
    "    plt.figure(figsize = (40,80))\n",
    "    plt.subplot(6,1, indices + 1)\n",
    "    new_value = df_tweet[df_tweet['airline']==i]\n",
    "    print(new_value['negativereason'].value_counts(),i)\n",
    "    index = [1,2,3,4,5,6,7,8,9,10]\n",
    "    sns.countplot(new_value['negativereason'])\n",
    "    plt.title('count of mood of ' + i)\n",
    "    "
   ]
  },
  {
   "cell_type": "code",
   "execution_count": null,
   "metadata": {},
   "outputs": [],
   "source": [
    "text_cleaning_re = \"@\\S+|https?:\\S+|http?:\\S|[^A-Za-z0-9]+\"\n",
    "def preprocess(x, stem =False):\n",
    "    x = re.sub(text_cleaning_re,' ',str(x).lower()).strip()\n",
    "    tokens = []\n",
    "    for token in x.split('\\n'):\n",
    "        if token not in stop_words:\n",
    "            if stem:\n",
    "                tokens.append(SnowballStemmer.stem(token))\n",
    "            else:\n",
    "                tokens.append(token)\n",
    "            return ' '.join(tokens)\n",
    "df_tweet.text = df_tweet.text.apply(lambda x:preprocess(x))"
   ]
  },
  {
   "cell_type": "code",
   "execution_count": null,
   "metadata": {},
   "outputs": [],
   "source": [
    "df_tweet['sentiment']=df_tweet['airline_sentiment'].apply(lambda x:'NEGATIVE' if x =='negative' else 'POSITIVE')"
   ]
  },
  {
   "cell_type": "code",
   "execution_count": null,
   "metadata": {},
   "outputs": [],
   "source": [
    "y= df_tweet['sentiment']\n",
    "x_train,x_test,y_train,y_test = train_test_split(df_tweet.text, y, test_size = 0.2,random_state = 1)"
   ]
  },
  {
   "cell_type": "code",
   "execution_count": null,
   "metadata": {},
   "outputs": [],
   "source": [
    "textclf1 = Pipeline([('vector',CountVectorizer()),('transformer',TfidfTransformer()),('clf', BernoulliNB())])\n",
    "textclf2 = Pipeline([('vector',CountVectorizer()),('transformer',TfidfTransformer()),('clf', MLPClassifier(hidden_layer_sizes=(10,10)))])"
   ]
  },
  {
   "cell_type": "code",
   "execution_count": null,
   "metadata": {},
   "outputs": [],
   "source": [
    "textclf1.fit(x_train,y_train)"
   ]
  },
  {
   "cell_type": "code",
   "execution_count": null,
   "metadata": {},
   "outputs": [],
   "source": [
    "pred = textclf1.predict(x_test)"
   ]
  },
  {
   "cell_type": "code",
   "execution_count": null,
   "metadata": {},
   "outputs": [],
   "source": [
    "print(classification_report(y_test,pred))"
   ]
  },
  {
   "cell_type": "code",
   "execution_count": null,
   "metadata": {},
   "outputs": [],
   "source": [
    "cm = confusion_matrix(y_test,pred)\n",
    "sns.heatmap(cm,annot =True,fmt='0.5g')"
   ]
  },
  {
   "cell_type": "code",
   "execution_count": null,
   "metadata": {},
   "outputs": [],
   "source": []
  }
 ],
 "metadata": {
  "kernelspec": {
   "display_name": "Python 3.10.4 64-bit",
   "language": "python",
   "name": "python3"
  },
  "language_info": {
   "codemirror_mode": {
    "name": "ipython",
    "version": 3
   },
   "file_extension": ".py",
   "mimetype": "text/x-python",
   "name": "python",
   "nbconvert_exporter": "python",
   "pygments_lexer": "ipython3",
   "version": "3.10.4"
  },
  "orig_nbformat": 4,
  "vscode": {
   "interpreter": {
    "hash": "97a318a1c10ea3cad32b5f740e8bef65bce9a717407c951d39899fa160feabd9"
   }
  }
 },
 "nbformat": 4,
 "nbformat_minor": 2
}

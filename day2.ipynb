{
 "cells": [
  {
   "cell_type": "markdown",
   "id": "163cd072",
   "metadata": {},
   "source": [
    "# DATA CONVERSION"
   ]
  },
  {
   "cell_type": "code",
   "execution_count": 1,
   "id": "d6562fad",
   "metadata": {},
   "outputs": [],
   "source": [
    "num1 = 5"
   ]
  },
  {
   "cell_type": "code",
   "execution_count": 2,
   "id": "7dbbbda2",
   "metadata": {},
   "outputs": [
    {
     "name": "stdout",
     "output_type": "stream",
     "text": [
      "12\n"
     ]
    }
   ],
   "source": [
    "num2 = int(12.6)\n",
    "print(num2)"
   ]
  },
  {
   "cell_type": "code",
   "execution_count": 3,
   "id": "7e23a369",
   "metadata": {},
   "outputs": [],
   "source": [
    "# float can be converted to int"
   ]
  },
  {
   "cell_type": "code",
   "execution_count": 4,
   "id": "e3c4020e",
   "metadata": {},
   "outputs": [
    {
     "name": "stdout",
     "output_type": "stream",
     "text": [
      "45.0\n"
     ]
    }
   ],
   "source": [
    "num3 = float(45)\n",
    "print(num3)"
   ]
  },
  {
   "cell_type": "code",
   "execution_count": 5,
   "id": "ddf34ed0",
   "metadata": {},
   "outputs": [],
   "source": [
    "# int can be converted to float"
   ]
  },
  {
   "cell_type": "code",
   "execution_count": 6,
   "id": "55e82c3d",
   "metadata": {},
   "outputs": [
    {
     "name": "stdout",
     "output_type": "stream",
     "text": [
      "45.0\n"
     ]
    }
   ],
   "source": [
    "print(str(num3))"
   ]
  },
  {
   "cell_type": "code",
   "execution_count": 7,
   "id": "4124e523",
   "metadata": {},
   "outputs": [
    {
     "name": "stdout",
     "output_type": "stream",
     "text": [
      "12\n"
     ]
    }
   ],
   "source": [
    "print(str(num2))"
   ]
  },
  {
   "cell_type": "code",
   "execution_count": 11,
   "id": "7db34ffa",
   "metadata": {},
   "outputs": [
    {
     "ename": "ValueError",
     "evalue": "invalid literal for int() with base 10: 'python'",
     "output_type": "error",
     "traceback": [
      "\u001b[1;31m---------------------------------------------------------------------------\u001b[0m",
      "\u001b[1;31mValueError\u001b[0m                                Traceback (most recent call last)",
      "Input \u001b[1;32mIn [11]\u001b[0m, in \u001b[0;36m<cell line: 1>\u001b[1;34m()\u001b[0m\n\u001b[1;32m----> 1\u001b[0m word \u001b[38;5;241m=\u001b[39m \u001b[38;5;28;43mint\u001b[39;49m\u001b[43m(\u001b[49m\u001b[38;5;124;43m'\u001b[39;49m\u001b[38;5;124;43mpython\u001b[39;49m\u001b[38;5;124;43m'\u001b[39;49m\u001b[43m)\u001b[49m\n\u001b[0;32m      2\u001b[0m \u001b[38;5;28mprint\u001b[39m(word)\n",
      "\u001b[1;31mValueError\u001b[0m: invalid literal for int() with base 10: 'python'"
     ]
    }
   ],
   "source": [
    "word = int('python')\n",
    "print(word)"
   ]
  },
  {
   "cell_type": "code",
   "execution_count": 10,
   "id": "c47f0859",
   "metadata": {},
   "outputs": [
    {
     "name": "stdout",
     "output_type": "stream",
     "text": [
      "65\n"
     ]
    }
   ],
   "source": [
    "number = int('65')\n",
    "print(number)"
   ]
  },
  {
   "cell_type": "code",
   "execution_count": 14,
   "id": "a6fc0531",
   "metadata": {},
   "outputs": [
    {
     "name": "stdout",
     "output_type": "stream",
     "text": [
      "Please provide your nameSam\n"
     ]
    }
   ],
   "source": [
    "name = input('Please provide your name')"
   ]
  },
  {
   "cell_type": "code",
   "execution_count": 15,
   "id": "ccb3b788",
   "metadata": {},
   "outputs": [
    {
     "name": "stdout",
     "output_type": "stream",
     "text": [
      "Sam\n"
     ]
    }
   ],
   "source": [
    "print(name)"
   ]
  },
  {
   "cell_type": "code",
   "execution_count": 19,
   "id": "fb6068df",
   "metadata": {},
   "outputs": [
    {
     "name": "stdout",
     "output_type": "stream",
     "text": [
      "Please enter your age:15\n"
     ]
    }
   ],
   "source": [
    "Age = float(input('Please enter your age:'))"
   ]
  },
  {
   "cell_type": "markdown",
   "id": "bb3c5576",
   "metadata": {},
   "source": [
    "# ARITHIMETIC OPRERATORS\n",
    "# +\n",
    "# -\n",
    "# *\n",
    "# /\n",
    "# %\n",
    "# //\n",
    "# **"
   ]
  },
  {
   "cell_type": "code",
   "execution_count": 21,
   "id": "e6c23456",
   "metadata": {},
   "outputs": [
    {
     "name": "stdout",
     "output_type": "stream",
     "text": [
      "Enter First Number40\n",
      "Enter Second Number20\n",
      "40 + 20 = 60\n",
      "40 - 20 = 20\n",
      "40 * 20 = 800\n",
      "40 / 20 = 2.0\n",
      "40 % 20 = 0\n",
      "40 // 20 = 2\n",
      "40 ** 20 = 109951162777600000000000000000000\n"
     ]
    }
   ],
   "source": [
    "num1 = int(input('Enter First Number'))\n",
    "num2 = int(input('Enter Second Number'))\n",
    "print(f'{num1} + {num2} = {num1 + num2}')\n",
    "print(f'{num1} - {num2} = {num1 - num2}')\n",
    "print(f'{num1} * {num2} = {num1 * num2}')\n",
    "print(f'{num1} / {num2} = {num1 / num2}')\n",
    "print(f'{num1} % {num2} = {num1 % num2}')\n",
    "print(f'{num1} // {num2} = {num1 // num2}')\n",
    "print(f'{num1} ** {num2} = {num1 ** num2}')"
   ]
  },
  {
   "cell_type": "code",
   "execution_count": 22,
   "id": "25eec6b6",
   "metadata": {},
   "outputs": [
    {
     "name": "stdout",
     "output_type": "stream",
     "text": [
      "Enter First Number45\n",
      "Enter Second Number60\n",
      "45 > 60 = False\n",
      "45 < 60 = True\n",
      "45 >= 60 = False\n",
      "45 <= 60 = True\n",
      "45 == 60 = False\n",
      "45 != 60 = True\n"
     ]
    }
   ],
   "source": [
    "num1 = int(input('Enter First Number'))\n",
    "num2 = int(input('Enter Second Number'))\n",
    "print(f'{num1} > {num2} = {num1 > num2}')\n",
    "print(f'{num1} < {num2} = {num1 < num2}')\n",
    "print(f'{num1} >= {num2} = {num1 >= num2}')\n",
    "print(f'{num1} <= {num2} = {num1 <= num2}')\n",
    "print(f'{num1} == {num2} = {num1 == num2}')\n",
    "print(f'{num1} != {num2} = {num1 != num2}')"
   ]
  },
  {
   "cell_type": "code",
   "execution_count": 25,
   "id": "6d79145d",
   "metadata": {},
   "outputs": [
    {
     "name": "stdout",
     "output_type": "stream",
     "text": [
      "Enter First Number52\n",
      "Enter Second Number20\n",
      "False\n",
      "True\n",
      "False\n"
     ]
    }
   ],
   "source": [
    "num1 = int(input('Enter First Number'))\n",
    "num2 = int(input('Enter Second Number'))\n",
    "print(num1 > num2 and num2 == num1)\n",
    "print(num1 > num2 or num2 == num1)\n",
    "print(not num1)"
   ]
  },
  {
   "cell_type": "code",
   "execution_count": null,
   "id": "48f8e104",
   "metadata": {},
   "outputs": [],
   "source": []
  }
 ],
 "metadata": {
  "kernelspec": {
   "display_name": "Python 3 (ipykernel)",
   "language": "python",
   "name": "python3"
  },
  "language_info": {
   "codemirror_mode": {
    "name": "ipython",
    "version": 3
   },
   "file_extension": ".py",
   "mimetype": "text/x-python",
   "name": "python",
   "nbconvert_exporter": "python",
   "pygments_lexer": "ipython3",
   "version": "3.9.12"
  }
 },
 "nbformat": 4,
 "nbformat_minor": 5
}
